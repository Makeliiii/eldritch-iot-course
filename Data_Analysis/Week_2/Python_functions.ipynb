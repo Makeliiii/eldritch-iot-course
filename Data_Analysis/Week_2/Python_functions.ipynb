{
 "metadata": {
  "language_info": {
   "codemirror_mode": {
    "name": "ipython",
    "version": 3
   },
   "file_extension": ".py",
   "mimetype": "text/x-python",
   "name": "python",
   "nbconvert_exporter": "python",
   "pygments_lexer": "ipython3",
   "version": "3.8.3-final"
  },
  "orig_nbformat": 2,
  "kernelspec": {
   "name": "python3",
   "display_name": "Python 3"
  }
 },
 "nbformat": 4,
 "nbformat_minor": 2,
 "cells": [
  {
   "cell_type": "code",
   "execution_count": 59,
   "metadata": {
    "tags": []
   },
   "outputs": [],
   "source": [
    "def toPounds(kg):\n",
    "    pounds = kg * 2.2\n",
    "    return print('%d lbs' %pounds)"
   ]
  },
  {
   "cell_type": "code",
   "execution_count": 60,
   "metadata": {
    "tags": []
   },
   "outputs": [
    {
     "output_type": "stream",
     "name": "stdout",
     "text": "154 lbs\n"
    }
   ],
   "source": [
    "toPounds(70)"
   ]
  },
  {
   "cell_type": "code",
   "execution_count": 61,
   "metadata": {},
   "outputs": [],
   "source": [
    "def sumList(list):\n",
    "    sum = 0\n",
    "\n",
    "    for i in list:\n",
    "        sum += i\n",
    "\n",
    "    return sum"
   ]
  },
  {
   "cell_type": "code",
   "execution_count": 62,
   "metadata": {},
   "outputs": [
    {
     "output_type": "execute_result",
     "data": {
      "text/plain": "16"
     },
     "metadata": {},
     "execution_count": 62
    }
   ],
   "source": [
    "sumList([1, 3, 5, 7])"
   ]
  },
  {
   "cell_type": "code",
   "execution_count": 63,
   "metadata": {},
   "outputs": [],
   "source": [
    "def ranger(min, max, val):\n",
    "    if (val >= min) and (val <= max):\n",
    "        return True\n",
    "    else:\n",
    "        return False"
   ]
  },
  {
   "cell_type": "code",
   "execution_count": 64,
   "metadata": {},
   "outputs": [
    {
     "output_type": "execute_result",
     "data": {
      "text/plain": "True"
     },
     "metadata": {},
     "execution_count": 64
    }
   ],
   "source": [
    "ranger(1, 10, 5)"
   ]
  },
  {
   "cell_type": "code",
   "execution_count": 65,
   "metadata": {},
   "outputs": [],
   "source": [
    "def primer(num):\n",
    "    if num == 2:\n",
    "        return print(num, 'is a prime number.')\n",
    "\n",
    "    if num > 1:\n",
    "        for i in range(2, num):\n",
    "            if (num % i) == 0:\n",
    "                return print(num,'is not a prime number.')\n",
    "            else:\n",
    "                return print(num, 'is a prime number.')\n",
    "    else:\n",
    "        return print(num, 'is not a prime number.')"
   ]
  },
  {
   "cell_type": "code",
   "execution_count": 66,
   "metadata": {
    "tags": []
   },
   "outputs": [
    {
     "output_type": "stream",
     "name": "stdout",
     "text": "7 is a prime number.\n"
    }
   ],
   "source": [
    "primer(7)"
   ]
  },
  {
   "cell_type": "code",
   "execution_count": 67,
   "metadata": {},
   "outputs": [],
   "source": [
    "def checkPalidrome(text):\n",
    "    rmWhiteSpace = text.lower().replace(' ', '')\n",
    "    reverseText = rmWhiteSpace[::-1]\n",
    "\n",
    "    if (rmWhiteSpace == reverseText):\n",
    "        return print(text, 'is a palidrome.')\n",
    "    else:\n",
    "        return print(text, 'is not a palidrome.')"
   ]
  },
  {
   "cell_type": "code",
   "execution_count": 68,
   "metadata": {
    "tags": []
   },
   "outputs": [
    {
     "output_type": "stream",
     "name": "stdout",
     "text": "Step on no pets is a palidrome.\n"
    }
   ],
   "source": [
    "checkPalidrome('Step on no pets')"
   ]
  }
 ]
}