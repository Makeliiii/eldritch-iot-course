{
 "metadata": {
  "language_info": {
   "codemirror_mode": {
    "name": "ipython",
    "version": 3
   },
   "file_extension": ".py",
   "mimetype": "text/x-python",
   "name": "python",
   "nbconvert_exporter": "python",
   "pygments_lexer": "ipython3",
   "version": "3.8.5-final"
  },
  "orig_nbformat": 2,
  "kernelspec": {
   "name": "Python 3.8.5 32-bit",
   "display_name": "Python 3.8.5 32-bit",
   "metadata": {
    "interpreter": {
     "hash": "72a2aa39ad7c8366a47fcfa70a943ee3e51b51641bad04f72320158f53f2a423"
    }
   }
  }
 },
 "nbformat": 4,
 "nbformat_minor": 2,
 "cells": [
  {
   "source": [
    "import numpy as np\n",
    "\n",
    "X = 2 * np.random.rand(100, 1)\n",
    "y = 4 + 3 * X + np.random.rand(100, 1)"
   ],
   "cell_type": "code",
   "metadata": {},
   "execution_count": 1,
   "outputs": []
  },
  {
   "cell_type": "code",
   "execution_count": 2,
   "metadata": {},
   "outputs": [],
   "source": [
    "X_b = np.c_[np.ones((100, 1)), X]\n",
    "theta_best = np.linalg.inv(X_b.T.dot(X_b)).dot(X_b.T).dot(y)"
   ]
  },
  {
   "cell_type": "code",
   "execution_count": 3,
   "metadata": {},
   "outputs": [
    {
     "output_type": "execute_result",
     "data": {
      "text/plain": [
       "array([[4.46623176],\n",
       "       [3.04085137]])"
      ]
     },
     "metadata": {},
     "execution_count": 3
    }
   ],
   "source": [
    "theta_best"
   ]
  },
  {
   "cell_type": "code",
   "execution_count": 4,
   "metadata": {},
   "outputs": [
    {
     "output_type": "execute_result",
     "data": {
      "text/plain": [
       "array([[ 4.46623176],\n",
       "       [10.5479345 ]])"
      ]
     },
     "metadata": {},
     "execution_count": 4
    }
   ],
   "source": [
    "X_new = np.array([[0], [2]])\n",
    "X_new_b = np.c_[np.ones((2, 1)), X_new]\n",
    "y_predict = X_new_b.dot(theta_best)\n",
    "y_predict"
   ]
  },
  {
   "cell_type": "code",
   "execution_count": 5,
   "metadata": {},
   "outputs": [
    {
     "output_type": "display_data",
     "data": {
      "text/plain": "<Figure size 432x288 with 1 Axes>",
      "image/svg+xml": "<?xml version=\"1.0\" encoding=\"utf-8\" standalone=\"no\"?>\r\n<!DOCTYPE svg PUBLIC \"-//W3C//DTD SVG 1.1//EN\"\r\n  \"http://www.w3.org/Graphics/SVG/1.1/DTD/svg11.dtd\">\r\n<!-- Created with matplotlib (https://matplotlib.org/) -->\r\n<svg height=\"248.518125pt\" version=\"1.1\" viewBox=\"0 0 380.057812 248.518125\" width=\"380.057812pt\" xmlns=\"http://www.w3.org/2000/svg\" xmlns:xlink=\"http://www.w3.org/1999/xlink\">\r\n <metadata>\r\n  <rdf:RDF xmlns:cc=\"http://creativecommons.org/ns#\" xmlns:dc=\"http://purl.org/dc/elements/1.1/\" xmlns:rdf=\"http://www.w3.org/1999/02/22-rdf-syntax-ns#\">\r\n   <cc:Work>\r\n    <dc:type rdf:resource=\"http://purl.org/dc/dcmitype/StillImage\"/>\r\n    <dc:date>2020-10-08T15:06:53.523475</dc:date>\r\n    <dc:format>image/svg+xml</dc:format>\r\n    <dc:creator>\r\n     <cc:Agent>\r\n      <dc:title>Matplotlib v3.3.2, https://matplotlib.org/</dc:title>\r\n     </cc:Agent>\r\n    </dc:creator>\r\n   </cc:Work>\r\n  </rdf:RDF>\r\n </metadata>\r\n <defs>\r\n  <style type=\"text/css\">*{stroke-linecap:butt;stroke-linejoin:round;}</style>\r\n </defs>\r\n <g id=\"figure_1\">\r\n  <g id=\"patch_1\">\r\n   <path d=\"M -0 248.518125 \r\nL 380.057812 248.518125 \r\nL 380.057812 0 \r\nL -0 0 \r\nz\r\n\" style=\"fill:none;\"/>\r\n  </g>\r\n  <g id=\"axes_1\">\r\n   <g id=\"patch_2\">\r\n    <path d=\"M 26.925 224.64 \r\nL 361.725 224.64 \r\nL 361.725 7.2 \r\nL 26.925 7.2 \r\nz\r\n\" style=\"fill:#ffffff;\"/>\r\n   </g>\r\n   <g id=\"matplotlib.axis_1\">\r\n    <g id=\"xtick_1\">\r\n     <g id=\"line2d_1\">\r\n      <defs>\r\n       <path d=\"M 0 0 \r\nL 0 3.5 \r\n\" id=\"mb85a90e087\" style=\"stroke:#000000;stroke-width:0.8;\"/>\r\n      </defs>\r\n      <g>\r\n       <use style=\"stroke:#000000;stroke-width:0.8;\" x=\"26.925\" xlink:href=\"#mb85a90e087\" y=\"224.64\"/>\r\n      </g>\r\n     </g>\r\n     <g id=\"text_1\">\r\n      <!-- 0.00 -->\r\n      <g transform=\"translate(15.792188 239.238437)scale(0.1 -0.1)\">\r\n       <defs>\r\n        <path d=\"M 31.78125 66.40625 \r\nQ 24.171875 66.40625 20.328125 58.90625 \r\nQ 16.5 51.421875 16.5 36.375 \r\nQ 16.5 21.390625 20.328125 13.890625 \r\nQ 24.171875 6.390625 31.78125 6.390625 \r\nQ 39.453125 6.390625 43.28125 13.890625 \r\nQ 47.125 21.390625 47.125 36.375 \r\nQ 47.125 51.421875 43.28125 58.90625 \r\nQ 39.453125 66.40625 31.78125 66.40625 \r\nz\r\nM 31.78125 74.21875 \r\nQ 44.046875 74.21875 50.515625 64.515625 \r\nQ 56.984375 54.828125 56.984375 36.375 \r\nQ 56.984375 17.96875 50.515625 8.265625 \r\nQ 44.046875 -1.421875 31.78125 -1.421875 \r\nQ 19.53125 -1.421875 13.0625 8.265625 \r\nQ 6.59375 17.96875 6.59375 36.375 \r\nQ 6.59375 54.828125 13.0625 64.515625 \r\nQ 19.53125 74.21875 31.78125 74.21875 \r\nz\r\n\" id=\"DejaVuSans-48\"/>\r\n        <path d=\"M 10.6875 12.40625 \r\nL 21 12.40625 \r\nL 21 0 \r\nL 10.6875 0 \r\nz\r\n\" id=\"DejaVuSans-46\"/>\r\n       </defs>\r\n       <use xlink:href=\"#DejaVuSans-48\"/>\r\n       <use x=\"63.623047\" xlink:href=\"#DejaVuSans-46\"/>\r\n       <use x=\"95.410156\" xlink:href=\"#DejaVuSans-48\"/>\r\n       <use x=\"159.033203\" xlink:href=\"#DejaVuSans-48\"/>\r\n      </g>\r\n     </g>\r\n    </g>\r\n    <g id=\"xtick_2\">\r\n     <g id=\"line2d_2\">\r\n      <g>\r\n       <use style=\"stroke:#000000;stroke-width:0.8;\" x=\"68.775\" xlink:href=\"#mb85a90e087\" y=\"224.64\"/>\r\n      </g>\r\n     </g>\r\n     <g id=\"text_2\">\r\n      <!-- 0.25 -->\r\n      <g transform=\"translate(57.642188 239.238437)scale(0.1 -0.1)\">\r\n       <defs>\r\n        <path d=\"M 19.1875 8.296875 \r\nL 53.609375 8.296875 \r\nL 53.609375 0 \r\nL 7.328125 0 \r\nL 7.328125 8.296875 \r\nQ 12.9375 14.109375 22.625 23.890625 \r\nQ 32.328125 33.6875 34.8125 36.53125 \r\nQ 39.546875 41.84375 41.421875 45.53125 \r\nQ 43.3125 49.21875 43.3125 52.78125 \r\nQ 43.3125 58.59375 39.234375 62.25 \r\nQ 35.15625 65.921875 28.609375 65.921875 \r\nQ 23.96875 65.921875 18.8125 64.3125 \r\nQ 13.671875 62.703125 7.8125 59.421875 \r\nL 7.8125 69.390625 \r\nQ 13.765625 71.78125 18.9375 73 \r\nQ 24.125 74.21875 28.421875 74.21875 \r\nQ 39.75 74.21875 46.484375 68.546875 \r\nQ 53.21875 62.890625 53.21875 53.421875 \r\nQ 53.21875 48.921875 51.53125 44.890625 \r\nQ 49.859375 40.875 45.40625 35.40625 \r\nQ 44.1875 33.984375 37.640625 27.21875 \r\nQ 31.109375 20.453125 19.1875 8.296875 \r\nz\r\n\" id=\"DejaVuSans-50\"/>\r\n        <path d=\"M 10.796875 72.90625 \r\nL 49.515625 72.90625 \r\nL 49.515625 64.59375 \r\nL 19.828125 64.59375 \r\nL 19.828125 46.734375 \r\nQ 21.96875 47.46875 24.109375 47.828125 \r\nQ 26.265625 48.1875 28.421875 48.1875 \r\nQ 40.625 48.1875 47.75 41.5 \r\nQ 54.890625 34.8125 54.890625 23.390625 \r\nQ 54.890625 11.625 47.5625 5.09375 \r\nQ 40.234375 -1.421875 26.90625 -1.421875 \r\nQ 22.3125 -1.421875 17.546875 -0.640625 \r\nQ 12.796875 0.140625 7.71875 1.703125 \r\nL 7.71875 11.625 \r\nQ 12.109375 9.234375 16.796875 8.0625 \r\nQ 21.484375 6.890625 26.703125 6.890625 \r\nQ 35.15625 6.890625 40.078125 11.328125 \r\nQ 45.015625 15.765625 45.015625 23.390625 \r\nQ 45.015625 31 40.078125 35.4375 \r\nQ 35.15625 39.890625 26.703125 39.890625 \r\nQ 22.75 39.890625 18.8125 39.015625 \r\nQ 14.890625 38.140625 10.796875 36.28125 \r\nz\r\n\" id=\"DejaVuSans-53\"/>\r\n       </defs>\r\n       <use xlink:href=\"#DejaVuSans-48\"/>\r\n       <use x=\"63.623047\" xlink:href=\"#DejaVuSans-46\"/>\r\n       <use x=\"95.410156\" xlink:href=\"#DejaVuSans-50\"/>\r\n       <use x=\"159.033203\" xlink:href=\"#DejaVuSans-53\"/>\r\n      </g>\r\n     </g>\r\n    </g>\r\n    <g id=\"xtick_3\">\r\n     <g id=\"line2d_3\">\r\n      <g>\r\n       <use style=\"stroke:#000000;stroke-width:0.8;\" x=\"110.625\" xlink:href=\"#mb85a90e087\" y=\"224.64\"/>\r\n      </g>\r\n     </g>\r\n     <g id=\"text_3\">\r\n      <!-- 0.50 -->\r\n      <g transform=\"translate(99.492188 239.238437)scale(0.1 -0.1)\">\r\n       <use xlink:href=\"#DejaVuSans-48\"/>\r\n       <use x=\"63.623047\" xlink:href=\"#DejaVuSans-46\"/>\r\n       <use x=\"95.410156\" xlink:href=\"#DejaVuSans-53\"/>\r\n       <use x=\"159.033203\" xlink:href=\"#DejaVuSans-48\"/>\r\n      </g>\r\n     </g>\r\n    </g>\r\n    <g id=\"xtick_4\">\r\n     <g id=\"line2d_4\">\r\n      <g>\r\n       <use style=\"stroke:#000000;stroke-width:0.8;\" x=\"152.475\" xlink:href=\"#mb85a90e087\" y=\"224.64\"/>\r\n      </g>\r\n     </g>\r\n     <g id=\"text_4\">\r\n      <!-- 0.75 -->\r\n      <g transform=\"translate(141.342188 239.238437)scale(0.1 -0.1)\">\r\n       <defs>\r\n        <path d=\"M 8.203125 72.90625 \r\nL 55.078125 72.90625 \r\nL 55.078125 68.703125 \r\nL 28.609375 0 \r\nL 18.3125 0 \r\nL 43.21875 64.59375 \r\nL 8.203125 64.59375 \r\nz\r\n\" id=\"DejaVuSans-55\"/>\r\n       </defs>\r\n       <use xlink:href=\"#DejaVuSans-48\"/>\r\n       <use x=\"63.623047\" xlink:href=\"#DejaVuSans-46\"/>\r\n       <use x=\"95.410156\" xlink:href=\"#DejaVuSans-55\"/>\r\n       <use x=\"159.033203\" xlink:href=\"#DejaVuSans-53\"/>\r\n      </g>\r\n     </g>\r\n    </g>\r\n    <g id=\"xtick_5\">\r\n     <g id=\"line2d_5\">\r\n      <g>\r\n       <use style=\"stroke:#000000;stroke-width:0.8;\" x=\"194.325\" xlink:href=\"#mb85a90e087\" y=\"224.64\"/>\r\n      </g>\r\n     </g>\r\n     <g id=\"text_5\">\r\n      <!-- 1.00 -->\r\n      <g transform=\"translate(183.192188 239.238437)scale(0.1 -0.1)\">\r\n       <defs>\r\n        <path d=\"M 12.40625 8.296875 \r\nL 28.515625 8.296875 \r\nL 28.515625 63.921875 \r\nL 10.984375 60.40625 \r\nL 10.984375 69.390625 \r\nL 28.421875 72.90625 \r\nL 38.28125 72.90625 \r\nL 38.28125 8.296875 \r\nL 54.390625 8.296875 \r\nL 54.390625 0 \r\nL 12.40625 0 \r\nz\r\n\" id=\"DejaVuSans-49\"/>\r\n       </defs>\r\n       <use xlink:href=\"#DejaVuSans-49\"/>\r\n       <use x=\"63.623047\" xlink:href=\"#DejaVuSans-46\"/>\r\n       <use x=\"95.410156\" xlink:href=\"#DejaVuSans-48\"/>\r\n       <use x=\"159.033203\" xlink:href=\"#DejaVuSans-48\"/>\r\n      </g>\r\n     </g>\r\n    </g>\r\n    <g id=\"xtick_6\">\r\n     <g id=\"line2d_6\">\r\n      <g>\r\n       <use style=\"stroke:#000000;stroke-width:0.8;\" x=\"236.175\" xlink:href=\"#mb85a90e087\" y=\"224.64\"/>\r\n      </g>\r\n     </g>\r\n     <g id=\"text_6\">\r\n      <!-- 1.25 -->\r\n      <g transform=\"translate(225.042188 239.238437)scale(0.1 -0.1)\">\r\n       <use xlink:href=\"#DejaVuSans-49\"/>\r\n       <use x=\"63.623047\" xlink:href=\"#DejaVuSans-46\"/>\r\n       <use x=\"95.410156\" xlink:href=\"#DejaVuSans-50\"/>\r\n       <use x=\"159.033203\" xlink:href=\"#DejaVuSans-53\"/>\r\n      </g>\r\n     </g>\r\n    </g>\r\n    <g id=\"xtick_7\">\r\n     <g id=\"line2d_7\">\r\n      <g>\r\n       <use style=\"stroke:#000000;stroke-width:0.8;\" x=\"278.025\" xlink:href=\"#mb85a90e087\" y=\"224.64\"/>\r\n      </g>\r\n     </g>\r\n     <g id=\"text_7\">\r\n      <!-- 1.50 -->\r\n      <g transform=\"translate(266.892188 239.238437)scale(0.1 -0.1)\">\r\n       <use xlink:href=\"#DejaVuSans-49\"/>\r\n       <use x=\"63.623047\" xlink:href=\"#DejaVuSans-46\"/>\r\n       <use x=\"95.410156\" xlink:href=\"#DejaVuSans-53\"/>\r\n       <use x=\"159.033203\" xlink:href=\"#DejaVuSans-48\"/>\r\n      </g>\r\n     </g>\r\n    </g>\r\n    <g id=\"xtick_8\">\r\n     <g id=\"line2d_8\">\r\n      <g>\r\n       <use style=\"stroke:#000000;stroke-width:0.8;\" x=\"319.875\" xlink:href=\"#mb85a90e087\" y=\"224.64\"/>\r\n      </g>\r\n     </g>\r\n     <g id=\"text_8\">\r\n      <!-- 1.75 -->\r\n      <g transform=\"translate(308.742188 239.238437)scale(0.1 -0.1)\">\r\n       <use xlink:href=\"#DejaVuSans-49\"/>\r\n       <use x=\"63.623047\" xlink:href=\"#DejaVuSans-46\"/>\r\n       <use x=\"95.410156\" xlink:href=\"#DejaVuSans-55\"/>\r\n       <use x=\"159.033203\" xlink:href=\"#DejaVuSans-53\"/>\r\n      </g>\r\n     </g>\r\n    </g>\r\n    <g id=\"xtick_9\">\r\n     <g id=\"line2d_9\">\r\n      <g>\r\n       <use style=\"stroke:#000000;stroke-width:0.8;\" x=\"361.725\" xlink:href=\"#mb85a90e087\" y=\"224.64\"/>\r\n      </g>\r\n     </g>\r\n     <g id=\"text_9\">\r\n      <!-- 2.00 -->\r\n      <g transform=\"translate(350.592188 239.238437)scale(0.1 -0.1)\">\r\n       <use xlink:href=\"#DejaVuSans-50\"/>\r\n       <use x=\"63.623047\" xlink:href=\"#DejaVuSans-46\"/>\r\n       <use x=\"95.410156\" xlink:href=\"#DejaVuSans-48\"/>\r\n       <use x=\"159.033203\" xlink:href=\"#DejaVuSans-48\"/>\r\n      </g>\r\n     </g>\r\n    </g>\r\n   </g>\r\n   <g id=\"matplotlib.axis_2\">\r\n    <g id=\"ytick_1\">\r\n     <g id=\"line2d_10\">\r\n      <defs>\r\n       <path d=\"M 0 0 \r\nL -3.5 0 \r\n\" id=\"m590e93502b\" style=\"stroke:#000000;stroke-width:0.8;\"/>\r\n      </defs>\r\n      <g>\r\n       <use style=\"stroke:#000000;stroke-width:0.8;\" x=\"26.925\" xlink:href=\"#m590e93502b\" y=\"224.64\"/>\r\n      </g>\r\n     </g>\r\n     <g id=\"text_10\">\r\n      <!-- 0 -->\r\n      <g transform=\"translate(13.5625 228.439219)scale(0.1 -0.1)\">\r\n       <use xlink:href=\"#DejaVuSans-48\"/>\r\n      </g>\r\n     </g>\r\n    </g>\r\n    <g id=\"ytick_2\">\r\n     <g id=\"line2d_11\">\r\n      <g>\r\n       <use style=\"stroke:#000000;stroke-width:0.8;\" x=\"26.925\" xlink:href=\"#m590e93502b\" y=\"195.648\"/>\r\n      </g>\r\n     </g>\r\n     <g id=\"text_11\">\r\n      <!-- 2 -->\r\n      <g transform=\"translate(13.5625 199.447219)scale(0.1 -0.1)\">\r\n       <use xlink:href=\"#DejaVuSans-50\"/>\r\n      </g>\r\n     </g>\r\n    </g>\r\n    <g id=\"ytick_3\">\r\n     <g id=\"line2d_12\">\r\n      <g>\r\n       <use style=\"stroke:#000000;stroke-width:0.8;\" x=\"26.925\" xlink:href=\"#m590e93502b\" y=\"166.656\"/>\r\n      </g>\r\n     </g>\r\n     <g id=\"text_12\">\r\n      <!-- 4 -->\r\n      <g transform=\"translate(13.5625 170.455219)scale(0.1 -0.1)\">\r\n       <defs>\r\n        <path d=\"M 37.796875 64.3125 \r\nL 12.890625 25.390625 \r\nL 37.796875 25.390625 \r\nz\r\nM 35.203125 72.90625 \r\nL 47.609375 72.90625 \r\nL 47.609375 25.390625 \r\nL 58.015625 25.390625 \r\nL 58.015625 17.1875 \r\nL 47.609375 17.1875 \r\nL 47.609375 0 \r\nL 37.796875 0 \r\nL 37.796875 17.1875 \r\nL 4.890625 17.1875 \r\nL 4.890625 26.703125 \r\nz\r\n\" id=\"DejaVuSans-52\"/>\r\n       </defs>\r\n       <use xlink:href=\"#DejaVuSans-52\"/>\r\n      </g>\r\n     </g>\r\n    </g>\r\n    <g id=\"ytick_4\">\r\n     <g id=\"line2d_13\">\r\n      <g>\r\n       <use style=\"stroke:#000000;stroke-width:0.8;\" x=\"26.925\" xlink:href=\"#m590e93502b\" y=\"137.664\"/>\r\n      </g>\r\n     </g>\r\n     <g id=\"text_13\">\r\n      <!-- 6 -->\r\n      <g transform=\"translate(13.5625 141.463219)scale(0.1 -0.1)\">\r\n       <defs>\r\n        <path d=\"M 33.015625 40.375 \r\nQ 26.375 40.375 22.484375 35.828125 \r\nQ 18.609375 31.296875 18.609375 23.390625 \r\nQ 18.609375 15.53125 22.484375 10.953125 \r\nQ 26.375 6.390625 33.015625 6.390625 \r\nQ 39.65625 6.390625 43.53125 10.953125 \r\nQ 47.40625 15.53125 47.40625 23.390625 \r\nQ 47.40625 31.296875 43.53125 35.828125 \r\nQ 39.65625 40.375 33.015625 40.375 \r\nz\r\nM 52.59375 71.296875 \r\nL 52.59375 62.3125 \r\nQ 48.875 64.0625 45.09375 64.984375 \r\nQ 41.3125 65.921875 37.59375 65.921875 \r\nQ 27.828125 65.921875 22.671875 59.328125 \r\nQ 17.53125 52.734375 16.796875 39.40625 \r\nQ 19.671875 43.65625 24.015625 45.921875 \r\nQ 28.375 48.1875 33.59375 48.1875 \r\nQ 44.578125 48.1875 50.953125 41.515625 \r\nQ 57.328125 34.859375 57.328125 23.390625 \r\nQ 57.328125 12.15625 50.6875 5.359375 \r\nQ 44.046875 -1.421875 33.015625 -1.421875 \r\nQ 20.359375 -1.421875 13.671875 8.265625 \r\nQ 6.984375 17.96875 6.984375 36.375 \r\nQ 6.984375 53.65625 15.1875 63.9375 \r\nQ 23.390625 74.21875 37.203125 74.21875 \r\nQ 40.921875 74.21875 44.703125 73.484375 \r\nQ 48.484375 72.75 52.59375 71.296875 \r\nz\r\n\" id=\"DejaVuSans-54\"/>\r\n       </defs>\r\n       <use xlink:href=\"#DejaVuSans-54\"/>\r\n      </g>\r\n     </g>\r\n    </g>\r\n    <g id=\"ytick_5\">\r\n     <g id=\"line2d_14\">\r\n      <g>\r\n       <use style=\"stroke:#000000;stroke-width:0.8;\" x=\"26.925\" xlink:href=\"#m590e93502b\" y=\"108.672\"/>\r\n      </g>\r\n     </g>\r\n     <g id=\"text_14\">\r\n      <!-- 8 -->\r\n      <g transform=\"translate(13.5625 112.471219)scale(0.1 -0.1)\">\r\n       <defs>\r\n        <path d=\"M 31.78125 34.625 \r\nQ 24.75 34.625 20.71875 30.859375 \r\nQ 16.703125 27.09375 16.703125 20.515625 \r\nQ 16.703125 13.921875 20.71875 10.15625 \r\nQ 24.75 6.390625 31.78125 6.390625 \r\nQ 38.8125 6.390625 42.859375 10.171875 \r\nQ 46.921875 13.96875 46.921875 20.515625 \r\nQ 46.921875 27.09375 42.890625 30.859375 \r\nQ 38.875 34.625 31.78125 34.625 \r\nz\r\nM 21.921875 38.8125 \r\nQ 15.578125 40.375 12.03125 44.71875 \r\nQ 8.5 49.078125 8.5 55.328125 \r\nQ 8.5 64.0625 14.71875 69.140625 \r\nQ 20.953125 74.21875 31.78125 74.21875 \r\nQ 42.671875 74.21875 48.875 69.140625 \r\nQ 55.078125 64.0625 55.078125 55.328125 \r\nQ 55.078125 49.078125 51.53125 44.71875 \r\nQ 48 40.375 41.703125 38.8125 \r\nQ 48.828125 37.15625 52.796875 32.3125 \r\nQ 56.78125 27.484375 56.78125 20.515625 \r\nQ 56.78125 9.90625 50.3125 4.234375 \r\nQ 43.84375 -1.421875 31.78125 -1.421875 \r\nQ 19.734375 -1.421875 13.25 4.234375 \r\nQ 6.78125 9.90625 6.78125 20.515625 \r\nQ 6.78125 27.484375 10.78125 32.3125 \r\nQ 14.796875 37.15625 21.921875 38.8125 \r\nz\r\nM 18.3125 54.390625 \r\nQ 18.3125 48.734375 21.84375 45.5625 \r\nQ 25.390625 42.390625 31.78125 42.390625 \r\nQ 38.140625 42.390625 41.71875 45.5625 \r\nQ 45.3125 48.734375 45.3125 54.390625 \r\nQ 45.3125 60.0625 41.71875 63.234375 \r\nQ 38.140625 66.40625 31.78125 66.40625 \r\nQ 25.390625 66.40625 21.84375 63.234375 \r\nQ 18.3125 60.0625 18.3125 54.390625 \r\nz\r\n\" id=\"DejaVuSans-56\"/>\r\n       </defs>\r\n       <use xlink:href=\"#DejaVuSans-56\"/>\r\n      </g>\r\n     </g>\r\n    </g>\r\n    <g id=\"ytick_6\">\r\n     <g id=\"line2d_15\">\r\n      <g>\r\n       <use style=\"stroke:#000000;stroke-width:0.8;\" x=\"26.925\" xlink:href=\"#m590e93502b\" y=\"79.68\"/>\r\n      </g>\r\n     </g>\r\n     <g id=\"text_15\">\r\n      <!-- 10 -->\r\n      <g transform=\"translate(7.2 83.479219)scale(0.1 -0.1)\">\r\n       <use xlink:href=\"#DejaVuSans-49\"/>\r\n       <use x=\"63.623047\" xlink:href=\"#DejaVuSans-48\"/>\r\n      </g>\r\n     </g>\r\n    </g>\r\n    <g id=\"ytick_7\">\r\n     <g id=\"line2d_16\">\r\n      <g>\r\n       <use style=\"stroke:#000000;stroke-width:0.8;\" x=\"26.925\" xlink:href=\"#m590e93502b\" y=\"50.688\"/>\r\n      </g>\r\n     </g>\r\n     <g id=\"text_16\">\r\n      <!-- 12 -->\r\n      <g transform=\"translate(7.2 54.487219)scale(0.1 -0.1)\">\r\n       <use xlink:href=\"#DejaVuSans-49\"/>\r\n       <use x=\"63.623047\" xlink:href=\"#DejaVuSans-50\"/>\r\n      </g>\r\n     </g>\r\n    </g>\r\n    <g id=\"ytick_8\">\r\n     <g id=\"line2d_17\">\r\n      <g>\r\n       <use style=\"stroke:#000000;stroke-width:0.8;\" x=\"26.925\" xlink:href=\"#m590e93502b\" y=\"21.696\"/>\r\n      </g>\r\n     </g>\r\n     <g id=\"text_17\">\r\n      <!-- 14 -->\r\n      <g transform=\"translate(7.2 25.495219)scale(0.1 -0.1)\">\r\n       <use xlink:href=\"#DejaVuSans-49\"/>\r\n       <use x=\"63.623047\" xlink:href=\"#DejaVuSans-52\"/>\r\n      </g>\r\n     </g>\r\n    </g>\r\n   </g>\r\n   <g id=\"line2d_18\">\r\n    <path clip-path=\"url(#p7ec988a0c9)\" d=\"M 26.925 159.897504 \r\nL 361.725 71.737141 \r\n\" style=\"fill:none;stroke:#ff0000;stroke-linecap:square;stroke-width:1.5;\"/>\r\n   </g>\r\n   <g id=\"line2d_19\">\r\n    <defs>\r\n     <path d=\"M 0 1.5 \r\nC 0.397805 1.5 0.77937 1.341951 1.06066 1.06066 \r\nC 1.341951 0.77937 1.5 0.397805 1.5 0 \r\nC 1.5 -0.397805 1.341951 -0.77937 1.06066 -1.06066 \r\nC 0.77937 -1.341951 0.397805 -1.5 0 -1.5 \r\nC -0.397805 -1.5 -0.77937 -1.341951 -1.06066 -1.06066 \r\nC -1.341951 -0.77937 -1.5 -0.397805 -1.5 0 \r\nC -1.5 0.397805 -1.341951 0.77937 -1.06066 1.06066 \r\nC -0.77937 1.341951 -0.397805 1.5 0 1.5 \r\nz\r\n\" id=\"mc3ef9af0a3\" style=\"stroke:#0000ff;\"/>\r\n    </defs>\r\n    <g clip-path=\"url(#p7ec988a0c9)\">\r\n     <use style=\"fill:#0000ff;stroke:#0000ff;\" x=\"28.756865\" xlink:href=\"#mc3ef9af0a3\" y=\"164.64602\"/>\r\n     <use style=\"fill:#0000ff;stroke:#0000ff;\" x=\"91.726928\" xlink:href=\"#mc3ef9af0a3\" y=\"147.177309\"/>\r\n     <use style=\"fill:#0000ff;stroke:#0000ff;\" x=\"336.794882\" xlink:href=\"#mc3ef9af0a3\" y=\"75.06383\"/>\r\n     <use style=\"fill:#0000ff;stroke:#0000ff;\" x=\"228.013268\" xlink:href=\"#mc3ef9af0a3\" y=\"108.902372\"/>\r\n     <use style=\"fill:#0000ff;stroke:#0000ff;\" x=\"138.669163\" xlink:href=\"#mc3ef9af0a3\" y=\"132.430828\"/>\r\n     <use style=\"fill:#0000ff;stroke:#0000ff;\" x=\"152.27459\" xlink:href=\"#mc3ef9af0a3\" y=\"131.233893\"/>\r\n     <use style=\"fill:#0000ff;stroke:#0000ff;\" x=\"295.901546\" xlink:href=\"#mc3ef9af0a3\" y=\"88.279065\"/>\r\n     <use style=\"fill:#0000ff;stroke:#0000ff;\" x=\"245.270424\" xlink:href=\"#mc3ef9af0a3\" y=\"103.646612\"/>\r\n     <use style=\"fill:#0000ff;stroke:#0000ff;\" x=\"138.825362\" xlink:href=\"#mc3ef9af0a3\" y=\"134.694901\"/>\r\n     <use style=\"fill:#0000ff;stroke:#0000ff;\" x=\"332.396539\" xlink:href=\"#mc3ef9af0a3\" y=\"75.953295\"/>\r\n     <use style=\"fill:#0000ff;stroke:#0000ff;\" x=\"322.939223\" xlink:href=\"#mc3ef9af0a3\" y=\"75.667767\"/>\r\n     <use style=\"fill:#0000ff;stroke:#0000ff;\" x=\"201.213441\" xlink:href=\"#mc3ef9af0a3\" y=\"112.478766\"/>\r\n     <use style=\"fill:#0000ff;stroke:#0000ff;\" x=\"353.422102\" xlink:href=\"#mc3ef9af0a3\" y=\"76.314847\"/>\r\n     <use style=\"fill:#0000ff;stroke:#0000ff;\" x=\"298.814139\" xlink:href=\"#mc3ef9af0a3\" y=\"86.95374\"/>\r\n     <use style=\"fill:#0000ff;stroke:#0000ff;\" x=\"350.801854\" xlink:href=\"#mc3ef9af0a3\" y=\"68.18925\"/>\r\n     <use style=\"fill:#0000ff;stroke:#0000ff;\" x=\"268.390143\" xlink:href=\"#mc3ef9af0a3\" y=\"94.579766\"/>\r\n     <use style=\"fill:#0000ff;stroke:#0000ff;\" x=\"256.323688\" xlink:href=\"#mc3ef9af0a3\" y=\"95.965052\"/>\r\n     <use style=\"fill:#0000ff;stroke:#0000ff;\" x=\"152.242867\" xlink:href=\"#mc3ef9af0a3\" y=\"129.409506\"/>\r\n     <use style=\"fill:#0000ff;stroke:#0000ff;\" x=\"65.558233\" xlink:href=\"#mc3ef9af0a3\" y=\"145.251872\"/>\r\n     <use style=\"fill:#0000ff;stroke:#0000ff;\" x=\"191.358627\" xlink:href=\"#mc3ef9af0a3\" y=\"118.654825\"/>\r\n     <use style=\"fill:#0000ff;stroke:#0000ff;\" x=\"335.56108\" xlink:href=\"#mc3ef9af0a3\" y=\"74.365244\"/>\r\n     <use style=\"fill:#0000ff;stroke:#0000ff;\" x=\"74.734045\" xlink:href=\"#mc3ef9af0a3\" y=\"143.927685\"/>\r\n     <use style=\"fill:#0000ff;stroke:#0000ff;\" x=\"80.866731\" xlink:href=\"#mc3ef9af0a3\" y=\"143.880911\"/>\r\n     <use style=\"fill:#0000ff;stroke:#0000ff;\" x=\"186.677241\" xlink:href=\"#mc3ef9af0a3\" y=\"120.513298\"/>\r\n     <use style=\"fill:#0000ff;stroke:#0000ff;\" x=\"236.526661\" xlink:href=\"#mc3ef9af0a3\" y=\"99.960395\"/>\r\n     <use style=\"fill:#0000ff;stroke:#0000ff;\" x=\"332.441782\" xlink:href=\"#mc3ef9af0a3\" y=\"86.331243\"/>\r\n     <use style=\"fill:#0000ff;stroke:#0000ff;\" x=\"317.05879\" xlink:href=\"#mc3ef9af0a3\" y=\"80.302438\"/>\r\n     <use style=\"fill:#0000ff;stroke:#0000ff;\" x=\"45.771733\" xlink:href=\"#mc3ef9af0a3\" y=\"155.479762\"/>\r\n     <use style=\"fill:#0000ff;stroke:#0000ff;\" x=\"74.094562\" xlink:href=\"#mc3ef9af0a3\" y=\"151.319196\"/>\r\n     <use style=\"fill:#0000ff;stroke:#0000ff;\" x=\"206.753829\" xlink:href=\"#mc3ef9af0a3\" y=\"108.430773\"/>\r\n     <use style=\"fill:#0000ff;stroke:#0000ff;\" x=\"281.680156\" xlink:href=\"#mc3ef9af0a3\" y=\"87.78604\"/>\r\n     <use style=\"fill:#0000ff;stroke:#0000ff;\" x=\"94.899345\" xlink:href=\"#mc3ef9af0a3\" y=\"137.088359\"/>\r\n     <use style=\"fill:#0000ff;stroke:#0000ff;\" x=\"205.850755\" xlink:href=\"#mc3ef9af0a3\" y=\"113.932339\"/>\r\n     <use style=\"fill:#0000ff;stroke:#0000ff;\" x=\"103.281104\" xlink:href=\"#mc3ef9af0a3\" y=\"140.040296\"/>\r\n     <use style=\"fill:#0000ff;stroke:#0000ff;\" x=\"219.811506\" xlink:href=\"#mc3ef9af0a3\" y=\"115.54917\"/>\r\n     <use style=\"fill:#0000ff;stroke:#0000ff;\" x=\"185.119838\" xlink:href=\"#mc3ef9af0a3\" y=\"114.467877\"/>\r\n     <use style=\"fill:#0000ff;stroke:#0000ff;\" x=\"118.144497\" xlink:href=\"#mc3ef9af0a3\" y=\"141.951853\"/>\r\n     <use style=\"fill:#0000ff;stroke:#0000ff;\" x=\"354.119177\" xlink:href=\"#mc3ef9af0a3\" y=\"80.150617\"/>\r\n     <use style=\"fill:#0000ff;stroke:#0000ff;\" x=\"325.246313\" xlink:href=\"#mc3ef9af0a3\" y=\"79.305947\"/>\r\n     <use style=\"fill:#0000ff;stroke:#0000ff;\" x=\"104.789768\" xlink:href=\"#mc3ef9af0a3\" y=\"134.736889\"/>\r\n     <use style=\"fill:#0000ff;stroke:#0000ff;\" x=\"357.035932\" xlink:href=\"#mc3ef9af0a3\" y=\"71.522271\"/>\r\n     <use style=\"fill:#0000ff;stroke:#0000ff;\" x=\"94.853319\" xlink:href=\"#mc3ef9af0a3\" y=\"137.594892\"/>\r\n     <use style=\"fill:#0000ff;stroke:#0000ff;\" x=\"177.101235\" xlink:href=\"#mc3ef9af0a3\" y=\"124.192849\"/>\r\n     <use style=\"fill:#0000ff;stroke:#0000ff;\" x=\"216.533507\" xlink:href=\"#mc3ef9af0a3\" y=\"114.270189\"/>\r\n     <use style=\"fill:#0000ff;stroke:#0000ff;\" x=\"246.644404\" xlink:href=\"#mc3ef9af0a3\" y=\"102.085085\"/>\r\n     <use style=\"fill:#0000ff;stroke:#0000ff;\" x=\"212.198156\" xlink:href=\"#mc3ef9af0a3\" y=\"107.186012\"/>\r\n     <use style=\"fill:#0000ff;stroke:#0000ff;\" x=\"120.613727\" xlink:href=\"#mc3ef9af0a3\" y=\"138.059643\"/>\r\n     <use style=\"fill:#0000ff;stroke:#0000ff;\" x=\"133.574106\" xlink:href=\"#mc3ef9af0a3\" y=\"134.077242\"/>\r\n     <use style=\"fill:#0000ff;stroke:#0000ff;\" x=\"233.906397\" xlink:href=\"#mc3ef9af0a3\" y=\"108.007803\"/>\r\n     <use style=\"fill:#0000ff;stroke:#0000ff;\" x=\"210.905074\" xlink:href=\"#mc3ef9af0a3\" y=\"112.801542\"/>\r\n     <use style=\"fill:#0000ff;stroke:#0000ff;\" x=\"301.091072\" xlink:href=\"#mc3ef9af0a3\" y=\"90.879392\"/>\r\n     <use style=\"fill:#0000ff;stroke:#0000ff;\" x=\"86.42279\" xlink:href=\"#mc3ef9af0a3\" y=\"138.395016\"/>\r\n     <use style=\"fill:#0000ff;stroke:#0000ff;\" x=\"227.0637\" xlink:href=\"#mc3ef9af0a3\" y=\"104.731652\"/>\r\n     <use style=\"fill:#0000ff;stroke:#0000ff;\" x=\"327.290057\" xlink:href=\"#mc3ef9af0a3\" y=\"75.576613\"/>\r\n     <use style=\"fill:#0000ff;stroke:#0000ff;\" x=\"330.034698\" xlink:href=\"#mc3ef9af0a3\" y=\"73.928033\"/>\r\n     <use style=\"fill:#0000ff;stroke:#0000ff;\" x=\"69.290767\" xlink:href=\"#mc3ef9af0a3\" y=\"141.190859\"/>\r\n     <use style=\"fill:#0000ff;stroke:#0000ff;\" x=\"156.832792\" xlink:href=\"#mc3ef9af0a3\" y=\"126.710181\"/>\r\n     <use style=\"fill:#0000ff;stroke:#0000ff;\" x=\"27.862507\" xlink:href=\"#mc3ef9af0a3\" y=\"163.028571\"/>\r\n     <use style=\"fill:#0000ff;stroke:#0000ff;\" x=\"220.364567\" xlink:href=\"#mc3ef9af0a3\" y=\"116.055435\"/>\r\n     <use style=\"fill:#0000ff;stroke:#0000ff;\" x=\"336.342711\" xlink:href=\"#mc3ef9af0a3\" y=\"80.346239\"/>\r\n     <use style=\"fill:#0000ff;stroke:#0000ff;\" x=\"260.090531\" xlink:href=\"#mc3ef9af0a3\" y=\"102.67623\"/>\r\n     <use style=\"fill:#0000ff;stroke:#0000ff;\" x=\"309.913009\" xlink:href=\"#mc3ef9af0a3\" y=\"81.56657\"/>\r\n     <use style=\"fill:#0000ff;stroke:#0000ff;\" x=\"325.581095\" xlink:href=\"#mc3ef9af0a3\" y=\"86.208275\"/>\r\n     <use style=\"fill:#0000ff;stroke:#0000ff;\" x=\"256.793083\" xlink:href=\"#mc3ef9af0a3\" y=\"93.334386\"/>\r\n     <use style=\"fill:#0000ff;stroke:#0000ff;\" x=\"152.014785\" xlink:href=\"#mc3ef9af0a3\" y=\"128.96785\"/>\r\n     <use style=\"fill:#0000ff;stroke:#0000ff;\" x=\"272.300071\" xlink:href=\"#mc3ef9af0a3\" y=\"97.755126\"/>\r\n     <use style=\"fill:#0000ff;stroke:#0000ff;\" x=\"289.614132\" xlink:href=\"#mc3ef9af0a3\" y=\"93.497819\"/>\r\n     <use style=\"fill:#0000ff;stroke:#0000ff;\" x=\"219.415225\" xlink:href=\"#mc3ef9af0a3\" y=\"113.830388\"/>\r\n     <use style=\"fill:#0000ff;stroke:#0000ff;\" x=\"176.475666\" xlink:href=\"#mc3ef9af0a3\" y=\"122.831975\"/>\r\n     <use style=\"fill:#0000ff;stroke:#0000ff;\" x=\"76.097828\" xlink:href=\"#mc3ef9af0a3\" y=\"151.147923\"/>\r\n     <use style=\"fill:#0000ff;stroke:#0000ff;\" x=\"346.016075\" xlink:href=\"#mc3ef9af0a3\" y=\"75.097953\"/>\r\n     <use style=\"fill:#0000ff;stroke:#0000ff;\" x=\"266.538186\" xlink:href=\"#mc3ef9af0a3\" y=\"101.353483\"/>\r\n     <use style=\"fill:#0000ff;stroke:#0000ff;\" x=\"176.993366\" xlink:href=\"#mc3ef9af0a3\" y=\"114.431061\"/>\r\n     <use style=\"fill:#0000ff;stroke:#0000ff;\" x=\"333.887871\" xlink:href=\"#mc3ef9af0a3\" y=\"86.016878\"/>\r\n     <use style=\"fill:#0000ff;stroke:#0000ff;\" x=\"354.091943\" xlink:href=\"#mc3ef9af0a3\" y=\"79.952759\"/>\r\n     <use style=\"fill:#0000ff;stroke:#0000ff;\" x=\"136.002179\" xlink:href=\"#mc3ef9af0a3\" y=\"127.774452\"/>\r\n     <use style=\"fill:#0000ff;stroke:#0000ff;\" x=\"96.631099\" xlink:href=\"#mc3ef9af0a3\" y=\"144.534721\"/>\r\n     <use style=\"fill:#0000ff;stroke:#0000ff;\" x=\"89.059407\" xlink:href=\"#mc3ef9af0a3\" y=\"145.949534\"/>\r\n     <use style=\"fill:#0000ff;stroke:#0000ff;\" x=\"130.695676\" xlink:href=\"#mc3ef9af0a3\" y=\"138.528419\"/>\r\n     <use style=\"fill:#0000ff;stroke:#0000ff;\" x=\"201.170271\" xlink:href=\"#mc3ef9af0a3\" y=\"108.992311\"/>\r\n     <use style=\"fill:#0000ff;stroke:#0000ff;\" x=\"34.349551\" xlink:href=\"#mc3ef9af0a3\" y=\"157.02953\"/>\r\n     <use style=\"fill:#0000ff;stroke:#0000ff;\" x=\"338.35755\" xlink:href=\"#mc3ef9af0a3\" y=\"80.035083\"/>\r\n     <use style=\"fill:#0000ff;stroke:#0000ff;\" x=\"327.122224\" xlink:href=\"#mc3ef9af0a3\" y=\"84.641437\"/>\r\n     <use style=\"fill:#0000ff;stroke:#0000ff;\" x=\"102.677406\" xlink:href=\"#mc3ef9af0a3\" y=\"144.925604\"/>\r\n     <use style=\"fill:#0000ff;stroke:#0000ff;\" x=\"317.770486\" xlink:href=\"#mc3ef9af0a3\" y=\"86.461133\"/>\r\n     <use style=\"fill:#0000ff;stroke:#0000ff;\" x=\"121.144056\" xlink:href=\"#mc3ef9af0a3\" y=\"136.80501\"/>\r\n     <use style=\"fill:#0000ff;stroke:#0000ff;\" x=\"144.89829\" xlink:href=\"#mc3ef9af0a3\" y=\"124.28043\"/>\r\n     <use style=\"fill:#0000ff;stroke:#0000ff;\" x=\"295.688475\" xlink:href=\"#mc3ef9af0a3\" y=\"95.486785\"/>\r\n     <use style=\"fill:#0000ff;stroke:#0000ff;\" x=\"111.875806\" xlink:href=\"#mc3ef9af0a3\" y=\"133.362327\"/>\r\n     <use style=\"fill:#0000ff;stroke:#0000ff;\" x=\"238.565866\" xlink:href=\"#mc3ef9af0a3\" y=\"98.370186\"/>\r\n     <use style=\"fill:#0000ff;stroke:#0000ff;\" x=\"185.989449\" xlink:href=\"#mc3ef9af0a3\" y=\"121.685086\"/>\r\n     <use style=\"fill:#0000ff;stroke:#0000ff;\" x=\"159.471787\" xlink:href=\"#mc3ef9af0a3\" y=\"119.055019\"/>\r\n     <use style=\"fill:#0000ff;stroke:#0000ff;\" x=\"110.823223\" xlink:href=\"#mc3ef9af0a3\" y=\"134.222196\"/>\r\n     <use style=\"fill:#0000ff;stroke:#0000ff;\" x=\"355.640017\" xlink:href=\"#mc3ef9af0a3\" y=\"69.545875\"/>\r\n     <use style=\"fill:#0000ff;stroke:#0000ff;\" x=\"71.983049\" xlink:href=\"#mc3ef9af0a3\" y=\"145.896623\"/>\r\n     <use style=\"fill:#0000ff;stroke:#0000ff;\" x=\"346.820837\" xlink:href=\"#mc3ef9af0a3\" y=\"71.364543\"/>\r\n     <use style=\"fill:#0000ff;stroke:#0000ff;\" x=\"166.746183\" xlink:href=\"#mc3ef9af0a3\" y=\"118.262788\"/>\r\n     <use style=\"fill:#0000ff;stroke:#0000ff;\" x=\"230.489797\" xlink:href=\"#mc3ef9af0a3\" y=\"106.750165\"/>\r\n     <use style=\"fill:#0000ff;stroke:#0000ff;\" x=\"251.031315\" xlink:href=\"#mc3ef9af0a3\" y=\"100.964814\"/>\r\n     <use style=\"fill:#0000ff;stroke:#0000ff;\" x=\"89.189292\" xlink:href=\"#mc3ef9af0a3\" y=\"138.930546\"/>\r\n    </g>\r\n   </g>\r\n   <g id=\"patch_3\">\r\n    <path d=\"M 26.925 224.64 \r\nL 26.925 7.2 \r\n\" style=\"fill:none;stroke:#000000;stroke-linecap:square;stroke-linejoin:miter;stroke-width:0.8;\"/>\r\n   </g>\r\n   <g id=\"patch_4\">\r\n    <path d=\"M 361.725 224.64 \r\nL 361.725 7.2 \r\n\" style=\"fill:none;stroke:#000000;stroke-linecap:square;stroke-linejoin:miter;stroke-width:0.8;\"/>\r\n   </g>\r\n   <g id=\"patch_5\">\r\n    <path d=\"M 26.925 224.64 \r\nL 361.725 224.64 \r\n\" style=\"fill:none;stroke:#000000;stroke-linecap:square;stroke-linejoin:miter;stroke-width:0.8;\"/>\r\n   </g>\r\n   <g id=\"patch_6\">\r\n    <path d=\"M 26.925 7.2 \r\nL 361.725 7.2 \r\n\" style=\"fill:none;stroke:#000000;stroke-linecap:square;stroke-linejoin:miter;stroke-width:0.8;\"/>\r\n   </g>\r\n  </g>\r\n </g>\r\n <defs>\r\n  <clipPath id=\"p7ec988a0c9\">\r\n   <rect height=\"217.44\" width=\"334.8\" x=\"26.925\" y=\"7.2\"/>\r\n  </clipPath>\r\n </defs>\r\n</svg>\r\n",
      "image/png": "[encoded data removed]"
     },
     "metadata": {
      "needs_background": "light"
     }
    }
   ],
   "source": [
    "import matplotlib.pyplot as plt\n",
    "\n",
    "plt.plot(X_new, y_predict, 'r-')\n",
    "plt.plot(X, y, 'b.')\n",
    "plt.axis([0, 2, 0, 15])\n",
    "plt.show()"
   ]
  },
  {
   "cell_type": "code",
   "execution_count": 6,
   "metadata": {},
   "outputs": [
    {
     "output_type": "execute_result",
     "data": {
      "text/plain": [
       "(array([4.46623176]), array([[3.04085137]]))"
      ]
     },
     "metadata": {},
     "execution_count": 6
    }
   ],
   "source": [
    "from sklearn.linear_model import LinearRegression\n",
    "\n",
    "lin_reg = LinearRegression()\n",
    "lin_reg.fit(X, y)\n",
    "lin_reg.intercept_, lin_reg.coef_"
   ]
  },
  {
   "cell_type": "code",
   "execution_count": 7,
   "metadata": {},
   "outputs": [
    {
     "output_type": "execute_result",
     "data": {
      "text/plain": [
       "array([[ 4.46623176],\n",
       "       [10.5479345 ]])"
      ]
     },
     "metadata": {},
     "execution_count": 7
    }
   ],
   "source": [
    "lin_reg.predict(X_new)"
   ]
  },
  {
   "cell_type": "code",
   "execution_count": 8,
   "metadata": {},
   "outputs": [
    {
     "output_type": "execute_result",
     "data": {
      "text/plain": [
       "array([[4.46623176],\n",
       "       [3.04085137]])"
      ]
     },
     "metadata": {},
     "execution_count": 8
    }
   ],
   "source": [
    "theta_best_svd, residuals, rank, s = np.linalg.lstsq(X_b, y, rcond=1e-6)\n",
    "theta_best_svd"
   ]
  },
  {
   "cell_type": "code",
   "execution_count": 9,
   "metadata": {},
   "outputs": [
    {
     "output_type": "execute_result",
     "data": {
      "text/plain": [
       "array([[4.46623176],\n",
       "       [3.04085137]])"
      ]
     },
     "metadata": {},
     "execution_count": 9
    }
   ],
   "source": [
    "np.linalg.pinv(X_b).dot(y)"
   ]
  },
  {
   "cell_type": "code",
   "execution_count": 10,
   "metadata": {},
   "outputs": [],
   "source": [
    "eta = 0.1\n",
    "n_iterations = 1000\n",
    "m = 100\n",
    "\n",
    "theta = np.random.randn(2, 1)\n",
    "\n",
    "for iteration in range(n_iterations):\n",
    "    gradients = 2/m * X_b.T.dot(X_b.dot(theta)- y)\n",
    "    theta = theta - eta * gradients"
   ]
  },
  {
   "cell_type": "code",
   "execution_count": 11,
   "metadata": {},
   "outputs": [
    {
     "output_type": "execute_result",
     "data": {
      "text/plain": [
       "array([[4.46623176],\n",
       "       [3.04085137]])"
      ]
     },
     "metadata": {},
     "execution_count": 11
    }
   ],
   "source": [
    "theta"
   ]
  },
  {
   "cell_type": "code",
   "execution_count": 12,
   "metadata": {},
   "outputs": [],
   "source": [
    "n_epochs =  50\n",
    "t0, t1 = 5, 50\n",
    "\n",
    "def learning_schedule(t):\n",
    "    return t0 / (t + t1)\n",
    "\n",
    "theta = np.random.randn(2,1)\n",
    "\n",
    "for epoch in range(n_epochs):\n",
    "    for i in range(m):\n",
    "        random_index = np.random.randint(m)\n",
    "        xi = X_b[random_index:random_index+1]\n",
    "        yi = y[random_index:random_index+1]\n",
    "        gradients = 2 * xi.T.dot(xi.dot(theta) - yi)\n",
    "        eta = learning_schedule(epoch * m + i)\n",
    "        theta = theta - eta * gradients"
   ]
  },
  {
   "cell_type": "code",
   "execution_count": 13,
   "metadata": {},
   "outputs": [
    {
     "output_type": "execute_result",
     "data": {
      "text/plain": [
       "array([[4.47328997],\n",
       "       [3.01937086]])"
      ]
     },
     "metadata": {},
     "execution_count": 13
    }
   ],
   "source": [
    "theta"
   ]
  },
  {
   "cell_type": "code",
   "execution_count": 14,
   "metadata": {},
   "outputs": [
    {
     "output_type": "execute_result",
     "data": {
      "text/plain": [
       "SGDRegressor(eta0=0.1, penalty=None)"
      ]
     },
     "metadata": {},
     "execution_count": 14
    }
   ],
   "source": [
    "from sklearn.linear_model import SGDRegressor\n",
    "sgd_reg = SGDRegressor(max_iter=1000, tol=1e-3, penalty=None, eta0=0.1)\n",
    "sgd_reg.fit(X, y.ravel())"
   ]
  },
  {
   "cell_type": "code",
   "execution_count": 15,
   "metadata": {},
   "outputs": [
    {
     "output_type": "execute_result",
     "data": {
      "text/plain": [
       "(array([4.44738369]), array([3.06912827]))"
      ]
     },
     "metadata": {},
     "execution_count": 15
    }
   ],
   "source": [
    "sgd_reg.intercept_, sgd_reg.coef_"
   ]
  },
  {
   "cell_type": "code",
   "execution_count": 16,
   "metadata": {},
   "outputs": [],
   "source": [
    "m = 100\n",
    "X = 6 * np.random.rand(m, 1) - 3\n",
    "y = 0.5 * X**2 + X + 2 + np.random.randn(m, 1)"
   ]
  },
  {
   "cell_type": "code",
   "execution_count": 17,
   "metadata": {},
   "outputs": [
    {
     "output_type": "execute_result",
     "data": {
      "text/plain": [
       "array([2.79558358])"
      ]
     },
     "metadata": {},
     "execution_count": 17
    }
   ],
   "source": [
    "from sklearn.preprocessing import PolynomialFeatures\n",
    "\n",
    "poly_features = PolynomialFeatures(degree=2, include_bias=False)\n",
    "X_poly = poly_features.fit_transform(X)\n",
    "X[0]"
   ]
  },
  {
   "cell_type": "code",
   "execution_count": 18,
   "metadata": {},
   "outputs": [
    {
     "output_type": "execute_result",
     "data": {
      "text/plain": [
       "array([2.79558358, 7.81528756])"
      ]
     },
     "metadata": {},
     "execution_count": 18
    }
   ],
   "source": [
    "X_poly[0]"
   ]
  },
  {
   "cell_type": "code",
   "execution_count": 19,
   "metadata": {},
   "outputs": [
    {
     "output_type": "execute_result",
     "data": {
      "text/plain": [
       "(array([2.0815088]), array([[0.97665848, 0.51456479]]))"
      ]
     },
     "metadata": {},
     "execution_count": 19
    }
   ],
   "source": [
    "lin_reg = LinearRegression()\n",
    "lin_reg.fit(X_poly, y)\n",
    "lin_reg.intercept_, lin_reg.coef_"
   ]
  },
  {
   "cell_type": "code",
   "execution_count": null,
   "metadata": {},
   "outputs": [],
   "source": []
  }
 ]
}