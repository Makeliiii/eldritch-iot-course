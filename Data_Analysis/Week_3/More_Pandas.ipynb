{
 "metadata": {
  "language_info": {
   "codemirror_mode": {
    "name": "ipython",
    "version": 3
   },
   "file_extension": ".py",
   "mimetype": "text/x-python",
   "name": "python",
   "nbconvert_exporter": "python",
   "pygments_lexer": "ipython3",
   "version": "3.8.5-final"
  },
  "orig_nbformat": 2,
  "kernelspec": {
   "name": "python38564bit3fe666b9e4444b13834adbf82d596814",
   "display_name": "Python 3.8.5 64-bit"
  }
 },
 "nbformat": 4,
 "nbformat_minor": 2,
 "cells": [
  {
   "cell_type": "code",
   "execution_count": 1,
   "metadata": {},
   "outputs": [],
   "source": [
    "import pandas as pd\n",
    "\n",
    "data = pd.read_csv('adult.data.csv')"
   ]
  },
  {
   "cell_type": "code",
   "execution_count": 2,
   "metadata": {},
   "outputs": [
    {
     "output_type": "execute_result",
     "data": {
      "text/plain": "   age         workclass  fnlwgt  education  education-num  \\\n0   39         State-gov   77516  Bachelors             13   \n1   50  Self-emp-not-inc   83311  Bachelors             13   \n2   38           Private  215646    HS-grad              9   \n3   53           Private  234721       11th              7   \n4   28           Private  338409  Bachelors             13   \n\n       marital-status         occupation   relationship   race     sex  \\\n0       Never-married       Adm-clerical  Not-in-family  White    Male   \n1  Married-civ-spouse    Exec-managerial        Husband  White    Male   \n2            Divorced  Handlers-cleaners  Not-in-family  White    Male   \n3  Married-civ-spouse  Handlers-cleaners        Husband  Black    Male   \n4  Married-civ-spouse     Prof-specialty           Wife  Black  Female   \n\n   capital-gain  capital-loss  hours-per-week native-country salary  \n0          2174             0              40  United-States  <=50K  \n1             0             0              13  United-States  <=50K  \n2             0             0              40  United-States  <=50K  \n3             0             0              40  United-States  <=50K  \n4             0             0              40           Cuba  <=50K  ",
      "text/html": "<div>\n<style scoped>\n    .dataframe tbody tr th:only-of-type {\n        vertical-align: middle;\n    }\n\n    .dataframe tbody tr th {\n        vertical-align: top;\n    }\n\n    .dataframe thead th {\n        text-align: right;\n    }\n</style>\n<table border=\"1\" class=\"dataframe\">\n  <thead>\n    <tr style=\"text-align: right;\">\n      <th></th>\n      <th>age</th>\n      <th>workclass</th>\n      <th>fnlwgt</th>\n      <th>education</th>\n      <th>education-num</th>\n      <th>marital-status</th>\n      <th>occupation</th>\n      <th>relationship</th>\n      <th>race</th>\n      <th>sex</th>\n      <th>capital-gain</th>\n      <th>capital-loss</th>\n      <th>hours-per-week</th>\n      <th>native-country</th>\n      <th>salary</th>\n    </tr>\n  </thead>\n  <tbody>\n    <tr>\n      <th>0</th>\n      <td>39</td>\n      <td>State-gov</td>\n      <td>77516</td>\n      <td>Bachelors</td>\n      <td>13</td>\n      <td>Never-married</td>\n      <td>Adm-clerical</td>\n      <td>Not-in-family</td>\n      <td>White</td>\n      <td>Male</td>\n      <td>2174</td>\n      <td>0</td>\n      <td>40</td>\n      <td>United-States</td>\n      <td>&lt;=50K</td>\n    </tr>\n    <tr>\n      <th>1</th>\n      <td>50</td>\n      <td>Self-emp-not-inc</td>\n      <td>83311</td>\n      <td>Bachelors</td>\n      <td>13</td>\n      <td>Married-civ-spouse</td>\n      <td>Exec-managerial</td>\n      <td>Husband</td>\n      <td>White</td>\n      <td>Male</td>\n      <td>0</td>\n      <td>0</td>\n      <td>13</td>\n      <td>United-States</td>\n      <td>&lt;=50K</td>\n    </tr>\n    <tr>\n      <th>2</th>\n      <td>38</td>\n      <td>Private</td>\n      <td>215646</td>\n      <td>HS-grad</td>\n      <td>9</td>\n      <td>Divorced</td>\n      <td>Handlers-cleaners</td>\n      <td>Not-in-family</td>\n      <td>White</td>\n      <td>Male</td>\n      <td>0</td>\n      <td>0</td>\n      <td>40</td>\n      <td>United-States</td>\n      <td>&lt;=50K</td>\n    </tr>\n    <tr>\n      <th>3</th>\n      <td>53</td>\n      <td>Private</td>\n      <td>234721</td>\n      <td>11th</td>\n      <td>7</td>\n      <td>Married-civ-spouse</td>\n      <td>Handlers-cleaners</td>\n      <td>Husband</td>\n      <td>Black</td>\n      <td>Male</td>\n      <td>0</td>\n      <td>0</td>\n      <td>40</td>\n      <td>United-States</td>\n      <td>&lt;=50K</td>\n    </tr>\n    <tr>\n      <th>4</th>\n      <td>28</td>\n      <td>Private</td>\n      <td>338409</td>\n      <td>Bachelors</td>\n      <td>13</td>\n      <td>Married-civ-spouse</td>\n      <td>Prof-specialty</td>\n      <td>Wife</td>\n      <td>Black</td>\n      <td>Female</td>\n      <td>0</td>\n      <td>0</td>\n      <td>40</td>\n      <td>Cuba</td>\n      <td>&lt;=50K</td>\n    </tr>\n  </tbody>\n</table>\n</div>"
     },
     "metadata": {},
     "execution_count": 2
    }
   ],
   "source": [
    "data.head()"
   ]
  },
  {
   "cell_type": "code",
   "execution_count": 3,
   "metadata": {
    "tags": []
   },
   "outputs": [
    {
     "output_type": "execute_result",
     "data": {
      "text/plain": "Male      21790\nFemale    10771\nName: sex, dtype: int64"
     },
     "metadata": {},
     "execution_count": 3
    }
   ],
   "source": [
    "data['sex'].value_counts()"
   ]
  },
  {
   "cell_type": "code",
   "execution_count": 4,
   "metadata": {},
   "outputs": [
    {
     "output_type": "execute_result",
     "data": {
      "text/plain": "36.85823043357163"
     },
     "metadata": {},
     "execution_count": 4
    }
   ],
   "source": [
    "data[data['sex'] == 'Female']['age'].mean()"
   ]
  },
  {
   "cell_type": "code",
   "execution_count": 5,
   "metadata": {},
   "outputs": [
    {
     "output_type": "execute_result",
     "data": {
      "text/plain": "Germany    0.420749\nName: native-country, dtype: float64"
     },
     "metadata": {},
     "execution_count": 5
    }
   ],
   "source": [
    "data[data['native-country'] == 'Germany']['native-country'].value_counts() / data.value_counts().sum() * 100"
   ]
  },
  {
   "cell_type": "code",
   "execution_count": 6,
   "metadata": {},
   "outputs": [
    {
     "output_type": "execute_result",
     "data": {
      "text/plain": "36.78373786407767"
     },
     "metadata": {},
     "execution_count": 6
    }
   ],
   "source": [
    "data[data['salary'] == '<=50K']['age'].mean()"
   ]
  },
  {
   "cell_type": "code",
   "execution_count": 7,
   "metadata": {},
   "outputs": [
    {
     "output_type": "execute_result",
     "data": {
      "text/plain": "44.24984058155847"
     },
     "metadata": {},
     "execution_count": 7
    }
   ],
   "source": [
    "data[data['salary'] == '>50K']['age'].mean()"
   ]
  },
  {
   "cell_type": "code",
   "execution_count": 8,
   "metadata": {},
   "outputs": [
    {
     "output_type": "execute_result",
     "data": {
      "text/plain": "14.02008849082488"
     },
     "metadata": {},
     "execution_count": 8
    }
   ],
   "source": [
    "data[data['salary'] == '<=50K']['age'].std()"
   ]
  },
  {
   "cell_type": "code",
   "execution_count": 9,
   "metadata": {},
   "outputs": [
    {
     "output_type": "execute_result",
     "data": {
      "text/plain": "10.519027719851826"
     },
     "metadata": {},
     "execution_count": 9
    }
   ],
   "source": [
    "data[data['salary'] == '>50K']['age'].std()"
   ]
  },
  {
   "cell_type": "code",
   "execution_count": 10,
   "metadata": {},
   "outputs": [
    {
     "output_type": "execute_result",
     "data": {
      "text/plain": "Bachelors       2221\nHS-grad         1675\nSome-college    1387\nMasters          959\nProf-school      423\nAssoc-voc        361\nDoctorate        306\nAssoc-acdm       265\n10th              62\n11th              60\n7th-8th           40\n12th              33\n9th               27\n5th-6th           16\n1st-4th            6\nName: education, dtype: int64"
     },
     "metadata": {},
     "execution_count": 10
    }
   ],
   "source": [
    "data[data['salary'] == '>50K']['education'].value_counts()"
   ]
  },
  {
   "cell_type": "code",
   "execution_count": 11,
   "metadata": {},
   "outputs": [
    {
     "output_type": "execute_result",
     "data": {
      "text/plain": "                      count       mean        std   min   25%   50%   75%  \\\nrace                                                                        \nAmer-Indian-Eskimo    311.0  37.173633  12.447130  17.0  28.0  35.0  45.5   \nAsian-Pac-Islander   1039.0  37.746872  12.825133  17.0  28.0  36.0  45.0   \nBlack                3124.0  37.767926  12.759290  17.0  28.0  36.0  46.0   \nOther                 271.0  33.457565  11.538865  17.0  25.0  31.0  41.0   \nWhite               27816.0  38.769881  13.782306  17.0  28.0  37.0  48.0   \n\n                     max  \nrace                      \nAmer-Indian-Eskimo  82.0  \nAsian-Pac-Islander  90.0  \nBlack               90.0  \nOther               77.0  \nWhite               90.0  ",
      "text/html": "<div>\n<style scoped>\n    .dataframe tbody tr th:only-of-type {\n        vertical-align: middle;\n    }\n\n    .dataframe tbody tr th {\n        vertical-align: top;\n    }\n\n    .dataframe thead th {\n        text-align: right;\n    }\n</style>\n<table border=\"1\" class=\"dataframe\">\n  <thead>\n    <tr style=\"text-align: right;\">\n      <th></th>\n      <th>count</th>\n      <th>mean</th>\n      <th>std</th>\n      <th>min</th>\n      <th>25%</th>\n      <th>50%</th>\n      <th>75%</th>\n      <th>max</th>\n    </tr>\n    <tr>\n      <th>race</th>\n      <th></th>\n      <th></th>\n      <th></th>\n      <th></th>\n      <th></th>\n      <th></th>\n      <th></th>\n      <th></th>\n    </tr>\n  </thead>\n  <tbody>\n    <tr>\n      <th>Amer-Indian-Eskimo</th>\n      <td>311.0</td>\n      <td>37.173633</td>\n      <td>12.447130</td>\n      <td>17.0</td>\n      <td>28.0</td>\n      <td>35.0</td>\n      <td>45.5</td>\n      <td>82.0</td>\n    </tr>\n    <tr>\n      <th>Asian-Pac-Islander</th>\n      <td>1039.0</td>\n      <td>37.746872</td>\n      <td>12.825133</td>\n      <td>17.0</td>\n      <td>28.0</td>\n      <td>36.0</td>\n      <td>45.0</td>\n      <td>90.0</td>\n    </tr>\n    <tr>\n      <th>Black</th>\n      <td>3124.0</td>\n      <td>37.767926</td>\n      <td>12.759290</td>\n      <td>17.0</td>\n      <td>28.0</td>\n      <td>36.0</td>\n      <td>46.0</td>\n      <td>90.0</td>\n    </tr>\n    <tr>\n      <th>Other</th>\n      <td>271.0</td>\n      <td>33.457565</td>\n      <td>11.538865</td>\n      <td>17.0</td>\n      <td>25.0</td>\n      <td>31.0</td>\n      <td>41.0</td>\n      <td>77.0</td>\n    </tr>\n    <tr>\n      <th>White</th>\n      <td>27816.0</td>\n      <td>38.769881</td>\n      <td>13.782306</td>\n      <td>17.0</td>\n      <td>28.0</td>\n      <td>37.0</td>\n      <td>48.0</td>\n      <td>90.0</td>\n    </tr>\n  </tbody>\n</table>\n</div>"
     },
     "metadata": {},
     "execution_count": 11
    }
   ],
   "source": [
    "data.groupby(['race'])['age'].describe()"
   ]
  },
  {
   "cell_type": "code",
   "execution_count": 12,
   "metadata": {},
   "outputs": [
    {
     "output_type": "execute_result",
     "data": {
      "text/plain": "          count       mean        std   min   25%   50%   75%   max\nsex                                                                \nFemale  10771.0  36.858230  14.013697  17.0  25.0  35.0  46.0  90.0\nMale    21790.0  39.433547  13.370630  17.0  29.0  38.0  48.0  90.0",
      "text/html": "<div>\n<style scoped>\n    .dataframe tbody tr th:only-of-type {\n        vertical-align: middle;\n    }\n\n    .dataframe tbody tr th {\n        vertical-align: top;\n    }\n\n    .dataframe thead th {\n        text-align: right;\n    }\n</style>\n<table border=\"1\" class=\"dataframe\">\n  <thead>\n    <tr style=\"text-align: right;\">\n      <th></th>\n      <th>count</th>\n      <th>mean</th>\n      <th>std</th>\n      <th>min</th>\n      <th>25%</th>\n      <th>50%</th>\n      <th>75%</th>\n      <th>max</th>\n    </tr>\n    <tr>\n      <th>sex</th>\n      <th></th>\n      <th></th>\n      <th></th>\n      <th></th>\n      <th></th>\n      <th></th>\n      <th></th>\n      <th></th>\n    </tr>\n  </thead>\n  <tbody>\n    <tr>\n      <th>Female</th>\n      <td>10771.0</td>\n      <td>36.858230</td>\n      <td>14.013697</td>\n      <td>17.0</td>\n      <td>25.0</td>\n      <td>35.0</td>\n      <td>46.0</td>\n      <td>90.0</td>\n    </tr>\n    <tr>\n      <th>Male</th>\n      <td>21790.0</td>\n      <td>39.433547</td>\n      <td>13.370630</td>\n      <td>17.0</td>\n      <td>29.0</td>\n      <td>38.0</td>\n      <td>48.0</td>\n      <td>90.0</td>\n    </tr>\n  </tbody>\n</table>\n</div>"
     },
     "metadata": {},
     "execution_count": 12
    }
   ],
   "source": [
    "data.groupby(['sex'])['age'].describe()"
   ]
  },
  {
   "cell_type": "code",
   "execution_count": 13,
   "metadata": {},
   "outputs": [
    {
     "output_type": "execute_result",
     "data": {
      "text/plain": "82"
     },
     "metadata": {},
     "execution_count": 13
    }
   ],
   "source": [
    "data[(data['race'] == 'Amer-Indian-Eskimo') & (data['sex'] == 'Male')]['age'].max()"
   ]
  },
  {
   "cell_type": "code",
   "execution_count": 14,
   "metadata": {},
   "outputs": [
    {
     "output_type": "execute_result",
     "data": {
      "text/plain": "Married-civ-spouse       5938\nNever-married             325\nDivorced                  284\nSeparated                  49\nWidowed                    39\nMarried-spouse-absent      23\nMarried-AF-spouse           4\nName: marital-status, dtype: int64"
     },
     "metadata": {},
     "execution_count": 14
    }
   ],
   "source": [
    "data[(data['salary'] == '>50K') & (data['sex'] == 'Male')]['marital-status'].value_counts()"
   ]
  },
  {
   "cell_type": "code",
   "execution_count": 15,
   "metadata": {},
   "outputs": [
    {
     "output_type": "execute_result",
     "data": {
      "text/plain": "99"
     },
     "metadata": {},
     "execution_count": 15
    }
   ],
   "source": [
    "data['hours-per-week'].max()"
   ]
  },
  {
   "cell_type": "code",
   "execution_count": 16,
   "metadata": {},
   "outputs": [
    {
     "output_type": "execute_result",
     "data": {
      "text/plain": "99    85\nName: hours-per-week, dtype: int64"
     },
     "metadata": {},
     "execution_count": 16
    }
   ],
   "source": [
    "data[data['hours-per-week'] == data['hours-per-week'].max()]['hours-per-week'].value_counts()"
   ]
  },
  {
   "cell_type": "code",
   "execution_count": 17,
   "metadata": {},
   "outputs": [
    {
     "output_type": "execute_result",
     "data": {
      "text/plain": "99    29.411765\nName: hours-per-week, dtype: float64"
     },
     "metadata": {},
     "execution_count": 17
    }
   ],
   "source": [
    "data[(data['hours-per-week'] == data['hours-per-week'].max()) & (data['salary'] == '>50K')]['hours-per-week'].value_counts() / data[data['hours-per-week'] == data['hours-per-week'].max()]['hours-per-week'].value_counts() * 100"
   ]
  },
  {
   "cell_type": "code",
   "execution_count": 18,
   "metadata": {},
   "outputs": [
    {
     "output_type": "execute_result",
     "data": {
      "text/plain": "native-country\n?                             40.164760\nCambodia                      41.416667\nCanada                        37.914634\nChina                         37.381818\nColumbia                      38.684211\nCuba                          37.985714\nDominican-Republic            42.338235\nEcuador                       38.041667\nEl-Salvador                   36.030928\nEngland                       40.483333\nFrance                        41.058824\nGermany                       39.139785\nGreece                        41.809524\nGuatemala                     39.360656\nHaiti                         36.325000\nHoland-Netherlands            40.000000\nHonduras                      34.333333\nHong                          39.142857\nHungary                       31.300000\nIndia                         38.233333\nIran                          41.440000\nIreland                       40.947368\nItaly                         39.625000\nJamaica                       38.239437\nJapan                         41.000000\nLaos                          40.375000\nMexico                        40.003279\nNicaragua                     36.093750\nOutlying-US(Guam-USVI-etc)    41.857143\nPeru                          35.068966\nPhilippines                   38.065693\nPoland                        38.166667\nPortugal                      41.939394\nPuerto-Rico                   38.470588\nScotland                      39.444444\nSouth                         40.156250\nTaiwan                        33.774194\nThailand                      42.866667\nTrinadad&Tobago               37.058824\nUnited-States                 38.799127\nVietnam                       37.193548\nYugoslavia                    41.600000\nName: hours-per-week, dtype: float64"
     },
     "metadata": {},
     "execution_count": 18
    }
   ],
   "source": [
    "data[data['salary'] == '<=50K'].groupby(['native-country'])['hours-per-week'].mean()"
   ]
  },
  {
   "cell_type": "code",
   "execution_count": 19,
   "metadata": {},
   "outputs": [
    {
     "output_type": "execute_result",
     "data": {
      "text/plain": "native-country\n?                     45.547945\nCambodia              40.000000\nCanada                45.641026\nChina                 38.900000\nColumbia              50.000000\nCuba                  42.440000\nDominican-Republic    47.000000\nEcuador               48.750000\nEl-Salvador           45.000000\nEngland               44.533333\nFrance                50.750000\nGermany               44.977273\nGreece                50.625000\nGuatemala             36.666667\nHaiti                 42.750000\nHonduras              60.000000\nHong                  45.000000\nHungary               50.000000\nIndia                 46.475000\nIran                  47.500000\nIreland               48.000000\nItaly                 45.400000\nJamaica               41.100000\nJapan                 47.958333\nLaos                  40.000000\nMexico                46.575758\nNicaragua             37.500000\nPeru                  40.000000\nPhilippines           43.032787\nPoland                39.000000\nPortugal              41.500000\nPuerto-Rico           39.416667\nScotland              46.666667\nSouth                 51.437500\nTaiwan                46.800000\nThailand              58.333333\nTrinadad&Tobago       40.000000\nUnited-States         45.505369\nVietnam               39.200000\nYugoslavia            49.500000\nName: hours-per-week, dtype: float64"
     },
     "metadata": {},
     "execution_count": 19
    }
   ],
   "source": [
    "data[data['salary'] == '>50K'].groupby(['native-country'])['hours-per-week'].mean()"
   ]
  },
  {
   "cell_type": "code",
   "execution_count": 20,
   "metadata": {},
   "outputs": [
    {
     "output_type": "execute_result",
     "data": {
      "text/plain": "native-country\nJapan    41\nName: hours-per-week, dtype: int64"
     },
     "metadata": {},
     "execution_count": 20
    }
   ],
   "source": [
    "data[(data['salary'] == '<=50K') & (data['native-country'] == 'Japan')].groupby(['native-country'])['hours-per-week'].mean()"
   ]
  },
  {
   "cell_type": "code",
   "execution_count": 21,
   "metadata": {},
   "outputs": [
    {
     "output_type": "execute_result",
     "data": {
      "text/plain": "native-country\nJapan    47.958333\nName: hours-per-week, dtype: float64"
     },
     "metadata": {},
     "execution_count": 21
    }
   ],
   "source": [
    "data[(data['salary'] == '>50K') & (data['native-country'] == 'Japan')].groupby(['native-country'])['hours-per-week'].mean()"
   ]
  },
  {
   "cell_type": "code",
   "execution_count": null,
   "metadata": {},
   "outputs": [],
   "source": []
  }
 ]
}